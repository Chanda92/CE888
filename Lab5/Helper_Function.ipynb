{
  "nbformat": 4,
  "nbformat_minor": 0,
  "metadata": {
    "colab": {
      "name": "Helper_Function.ipynb",
      "provenance": [],
      "collapsed_sections": [],
      "include_colab_link": true
    },
    "kernelspec": {
      "name": "python3",
      "display_name": "Python 3"
    }
  },
  "cells": [
    {
      "cell_type": "markdown",
      "metadata": {
        "id": "view-in-github",
        "colab_type": "text"
      },
      "source": [
        "<a href=\"https://colab.research.google.com/github/Chanda92/CE888/blob/master/Lab5/Helper_Function.ipynb\" target=\"_parent\"><img src=\"https://colab.research.google.com/assets/colab-badge.svg\" alt=\"Open In Colab\"/></a>"
      ]
    },
    {
      "cell_type": "code",
      "metadata": {
        "id": "Azx-162uO6Ki",
        "colab_type": "code",
        "colab": {}
      },
      "source": [
        "import pandas as pd\n",
        "import numpy as np\n",
        "from IPython.display import Image\n",
        "np.set_printoptions(precision = 3)"
      ],
      "execution_count": 0,
      "outputs": []
    },
    {
      "cell_type": "code",
      "metadata": {
        "id": "iivDuU8FPA-6",
        "colab_type": "code",
        "outputId": "6ff8db1f-ee05-4935-8dbb-b08078e7fac1",
        "colab": {
          "base_uri": "https://localhost:8080/",
          "height": 255
        }
      },
      "source": [
        "df = pd.read_csv('https://raw.githubusercontent.com/Chanda92/CE888/master/jester-data-1.csv')\n",
        "print(df)"
      ],
      "execution_count": 23,
      "outputs": [
        {
          "output_type": "stream",
          "text": [
            "        74  -7.82   8.79  -9.66  -8.16  ...  99.22  -5.63  99.23  99.24  99.25\n",
            "0      100   4.08  -0.29   6.36   4.37  ...  -2.14   3.06   0.34  -4.32   1.07\n",
            "1       49  99.00  99.00  99.00  99.00  ...  99.00  99.00  99.00  99.00  99.00\n",
            "2       48  99.00   8.35  99.00  99.00  ...  99.00  99.00  99.00  99.00  99.00\n",
            "3       91   8.50   4.61  -4.17  -5.39  ...   1.55   3.11   6.55   1.80   1.60\n",
            "4      100  -6.17  -3.54   0.44  -8.50  ...  -3.35   0.05  -9.08  -5.05  -3.45\n",
            "...    ...    ...    ...    ...    ...  ...    ...    ...    ...    ...    ...\n",
            "24977  100   0.44   7.43   9.08   2.33  ...   9.03   6.55   8.69   8.79   7.43\n",
            "24978   91   9.13  -8.16   8.59   9.08  ...  -8.20  -7.23  -8.59   9.13   8.45\n",
            "24979   39  99.00  99.00  99.00  99.00  ...  99.00  99.00  99.00  99.00  99.00\n",
            "24980   37  99.00  99.00  99.00  99.00  ...  99.00  99.00  99.00  99.00  99.00\n",
            "24981   72   2.43   2.67  -3.98   4.27  ...  99.00  99.00  99.00  99.00  99.00\n",
            "\n",
            "[24982 rows x 101 columns]\n"
          ],
          "name": "stdout"
        }
      ]
    },
    {
      "cell_type": "code",
      "metadata": {
        "id": "RoRa5BXQPL3f",
        "colab_type": "code",
        "outputId": "64cb2138-39d0-4028-e4bb-aad0f1bfe213",
        "colab": {
          "base_uri": "https://localhost:8080/",
          "height": 34
        }
      },
      "source": [
        "arr = df.values\n",
        "print(arr.shape)"
      ],
      "execution_count": 0,
      "outputs": [
        {
          "output_type": "stream",
          "text": [
            "(24983, 101)\n"
          ],
          "name": "stdout"
        }
      ]
    },
    {
      "cell_type": "code",
      "metadata": {
        "id": "BSw1IHSyPTcL",
        "colab_type": "code",
        "outputId": "86c20d65-97b4-4869-d59a-a7309565fa7d",
        "colab": {
          "base_uri": "https://localhost:8080/",
          "height": 34
        }
      },
      "source": [
        "rated = np.where(arr!=99)\n",
        "print(len(rated[0]), rated[1].shape)"
      ],
      "execution_count": 0,
      "outputs": [
        {
          "output_type": "stream",
          "text": [
            "1835282 (1835282,)\n"
          ],
          "name": "stdout"
        }
      ]
    },
    {
      "cell_type": "code",
      "metadata": {
        "id": "811TzpLFPlaN",
        "colab_type": "code",
        "colab": {}
      },
      "source": [
        "def replace(orig, percentage=0.1):\n",
        "  \"\"\"\n",
        "  Replaces 'percentage'% of the original values in 'orig' with 99's\n",
        "  :param orig: original data array\n",
        "  :param percentage: percentage of values to replace (0<percentage<1)\n",
        "  \"\"\"\n",
        "  new_data = orig.copy()\n",
        "  rated = np.where(arr!=99)\n",
        "  n_rated = len(rated[0])\n",
        "  idx = np.random.choice(n_rated, size=int(percentage*n_rated), replace=False)\n",
        "  new_data[rated[0][idx], rated[1][idx]] = 99\n",
        "  return new_data, (rated[0][idx], rated[1][idx])\n"
      ],
      "execution_count": 0,
      "outputs": []
    },
    {
      "cell_type": "code",
      "metadata": {
        "id": "VZ3dnTF3RFW4",
        "colab_type": "code",
        "colab": {}
      },
      "source": [
        "new_arr, idx = replace(arr, 0.1)"
      ],
      "execution_count": 0,
      "outputs": []
    },
    {
      "cell_type": "code",
      "metadata": {
        "id": "hj0yl47dRwKy",
        "colab_type": "code",
        "outputId": "89d64a4a-0c60-4c96-9cd1-47fdb9766769",
        "colab": {
          "base_uri": "https://localhost:8080/",
          "height": 34
        }
      },
      "source": [
        "\n",
        "arr[idx[0][0], idx[1][0]]"
      ],
      "execution_count": 0,
      "outputs": [
        {
          "output_type": "execute_result",
          "data": {
            "text/plain": [
              "4.37"
            ]
          },
          "metadata": {
            "tags": []
          },
          "execution_count": 9
        }
      ]
    },
    {
      "cell_type": "code",
      "metadata": {
        "id": "NTpRwdPXR1GZ",
        "colab_type": "code",
        "outputId": "130b5f9a-e2c3-4f54-d418-32e333ba3ba5",
        "colab": {
          "base_uri": "https://localhost:8080/",
          "height": 34
        }
      },
      "source": [
        "new_arr[idx[0][0], idx[1][0]]"
      ],
      "execution_count": 0,
      "outputs": [
        {
          "output_type": "execute_result",
          "data": {
            "text/plain": [
              "99.0"
            ]
          },
          "metadata": {
            "tags": []
          },
          "execution_count": 10
        }
      ]
    }
  ]
}