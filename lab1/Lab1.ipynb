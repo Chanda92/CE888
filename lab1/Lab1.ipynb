{
  "nbformat": 4,
  "nbformat_minor": 0,
  "metadata": {
    "colab": {
      "name": "Lab1.ipynb",
      "provenance": [],
      "collapsed_sections": [],
      "authorship_tag": "ABX9TyNuTj7WSrFIUqQ7kDD2t/fB",
      "include_colab_link": true
    },
    "kernelspec": {
      "name": "python3",
      "display_name": "Python 3"
    }
  },
  "cells": [
    {
      "cell_type": "markdown",
      "metadata": {
        "id": "view-in-github",
        "colab_type": "text"
      },
      "source": [
        "<a href=\"https://colab.research.google.com/github/Chanda92/CE888/blob/master/lab1/Lab1.ipynb\" target=\"_parent\"><img src=\"https://colab.research.google.com/assets/colab-badge.svg\" alt=\"Open In Colab\"/></a>"
      ]
    },
    {
      "cell_type": "code",
      "metadata": {
        "id": "hoK1Oup5WyE0",
        "colab_type": "code",
        "colab": {}
      },
      "source": [
        "import numpy as np"
      ],
      "execution_count": 0,
      "outputs": []
    },
    {
      "cell_type": "code",
      "metadata": {
        "id": "BzpwFEMhW1Wq",
        "colab_type": "code",
        "outputId": "33163d45-8f68-4047-eac7-9a94c1cc8ac9",
        "colab": {
          "base_uri": "https://localhost:8080/",
          "height": 85
        }
      },
      "source": [
        "# Create a (4 x 2) integer array and print it's attributes\n",
        "# 2nd method\n",
        "y=np.arange(8)\n",
        "y.reshape(4,2)"
      ],
      "execution_count": 0,
      "outputs": [
        {
          "output_type": "execute_result",
          "data": {
            "text/plain": [
              "array([[0, 1],\n",
              "       [2, 3],\n",
              "       [4, 5],\n",
              "       [6, 7]])"
            ]
          },
          "metadata": {
            "tags": []
          },
          "execution_count": 2
        }
      ]
    },
    {
      "cell_type": "code",
      "metadata": {
        "id": "4zd-jKHRXR-K",
        "colab_type": "code",
        "outputId": "0c028c7e-3713-4ace-f978-38362f5a8b38",
        "colab": {
          "base_uri": "https://localhost:8080/",
          "height": 34
        }
      },
      "source": [
        "# Create an array of dimension (1,10) and sort it in ascending and descending order¶\n",
        "# Sort Arrays and reshape \n",
        "z= [10,5,1,3,8,9,4,2,7,6]\n",
        "a=np.sort(z)\n",
        "a.reshape(1,10)"
      ],
      "execution_count": 0,
      "outputs": [
        {
          "output_type": "execute_result",
          "data": {
            "text/plain": [
              "array([[ 1,  2,  3,  4,  5,  6,  7,  8,  9, 10]])"
            ]
          },
          "metadata": {
            "tags": []
          },
          "execution_count": 3
        }
      ]
    },
    {
      "cell_type": "code",
      "metadata": {
        "id": "eAFfpobJXaDj",
        "colab_type": "code",
        "outputId": "2ca6860b-523e-4aaa-a772-1be22ce89419",
        "colab": {
          "base_uri": "https://localhost:8080/",
          "height": 68
        }
      },
      "source": [
        "# Convert an 1D array [1 2 3 4 5 6 7 8 9] to 2D array [[1 2 3], [4 5 6], [7 8 9]]\n",
        "b=np.array([1,2,3,4,5,6,7,8,9])\n",
        "np.reshape(b,(3,3))"
      ],
      "execution_count": 0,
      "outputs": [
        {
          "output_type": "execute_result",
          "data": {
            "text/plain": [
              "array([[1, 2, 3],\n",
              "       [4, 5, 6],\n",
              "       [7, 8, 9]])"
            ]
          },
          "metadata": {
            "tags": []
          },
          "execution_count": 4
        }
      ]
    },
    {
      "cell_type": "code",
      "metadata": {
        "id": "yKcHOGCvXdhj",
        "colab_type": "code",
        "outputId": "314921d2-5b97-47ec-cc8f-e303577eabd1",
        "colab": {
          "base_uri": "https://localhost:8080/",
          "height": 51
        }
      },
      "source": [
        "# Stack two arrays of any size horizontally an vertically\n",
        "# Stack two arrays of any size horizontally\n",
        "a= np.array([[1,2],[3,4]])\n",
        "b=np.array([[5,6,7],[8,9,10]])\n",
        "np.hstack((a,b))"
      ],
      "execution_count": 0,
      "outputs": [
        {
          "output_type": "execute_result",
          "data": {
            "text/plain": [
              "array([[ 1,  2,  5,  6,  7],\n",
              "       [ 3,  4,  8,  9, 10]])"
            ]
          },
          "metadata": {
            "tags": []
          },
          "execution_count": 5
        }
      ]
    },
    {
      "cell_type": "code",
      "metadata": {
        "id": "wBG8dBNYXlzg",
        "colab_type": "code",
        "outputId": "1befbe49-8e82-4d13-88be-78c8fad63dba",
        "colab": {
          "base_uri": "https://localhost:8080/",
          "height": 68
        }
      },
      "source": [
        "# Stack two arrays of any size Vertically \n",
        "x= np.array([[1,2,3]])\n",
        "y=np.array([[5, 6, 7],[8,9,10]])\n",
        "np.vstack((x,y))"
      ],
      "execution_count": 0,
      "outputs": [
        {
          "output_type": "execute_result",
          "data": {
            "text/plain": [
              "array([[ 1,  2,  3],\n",
              "       [ 5,  6,  7],\n",
              "       [ 8,  9, 10]])"
            ]
          },
          "metadata": {
            "tags": []
          },
          "execution_count": 6
        }
      ]
    },
    {
      "cell_type": "code",
      "metadata": {
        "id": "iNeUycBDXqWo",
        "colab_type": "code",
        "outputId": "849be3d1-d9ca-4603-84fd-09c3778b8639",
        "colab": {
          "base_uri": "https://localhost:8080/",
          "height": 34
        }
      },
      "source": [
        "# Create two array of same size and find commom elements\n",
        "c = np.array([[1,2,3],[2,5,3]])\n",
        "d = np.array([[2,3,5],[4,1,2]])\n",
        "np.intersect1d(c,d)"
      ],
      "execution_count": 0,
      "outputs": [
        {
          "output_type": "execute_result",
          "data": {
            "text/plain": [
              "array([1, 2, 3, 5])"
            ]
          },
          "metadata": {
            "tags": []
          },
          "execution_count": 7
        }
      ]
    },
    {
      "cell_type": "code",
      "metadata": {
        "id": "364WeTr5XtxH",
        "colab_type": "code",
        "outputId": "af9a4b5b-917b-417a-c553-b0a8e3ffce7a",
        "colab": {
          "base_uri": "https://localhost:8080/",
          "height": 34
        }
      },
      "source": [
        "# Create a 2D array of 5 by 5 and find the min and max values from each row and each column\n",
        "# Min Values of 2D Array\n",
        "e = np.arange(2,27)\n",
        "np.min(e)"
      ],
      "execution_count": 0,
      "outputs": [
        {
          "output_type": "execute_result",
          "data": {
            "text/plain": [
              "2"
            ]
          },
          "metadata": {
            "tags": []
          },
          "execution_count": 8
        }
      ]
    },
    {
      "cell_type": "code",
      "metadata": {
        "id": "xxl3Ym4KX2Sr",
        "colab_type": "code",
        "outputId": "8f12bf5a-25bc-47f0-d9c5-291490e2d7d6",
        "colab": {
          "base_uri": "https://localhost:8080/",
          "height": 34
        }
      },
      "source": [
        "# Max Values of 2D Array\n",
        "np.max(e)"
      ],
      "execution_count": 0,
      "outputs": [
        {
          "output_type": "execute_result",
          "data": {
            "text/plain": [
              "26"
            ]
          },
          "metadata": {
            "tags": []
          },
          "execution_count": 9
        }
      ]
    },
    {
      "cell_type": "code",
      "metadata": {
        "id": "jU-3kEZxX6wC",
        "colab_type": "code",
        "outputId": "68bb1656-69e8-4515-c7a3-f909ac98bd8b",
        "colab": {
          "base_uri": "https://localhost:8080/",
          "height": 34
        }
      },
      "source": [
        "# Create an array of size 100 and compute the mean, median, standard deviation.\n",
        "# Compute mean\n",
        "f = np.arange(100)\n",
        "np.mean(f)"
      ],
      "execution_count": 0,
      "outputs": [
        {
          "output_type": "execute_result",
          "data": {
            "text/plain": [
              "49.5"
            ]
          },
          "metadata": {
            "tags": []
          },
          "execution_count": 10
        }
      ]
    },
    {
      "cell_type": "code",
      "metadata": {
        "id": "I59texfRYDB7",
        "colab_type": "code",
        "outputId": "0e759998-e322-4aac-a86b-36d70661361a",
        "colab": {
          "base_uri": "https://localhost:8080/",
          "height": 34
        }
      },
      "source": [
        "# Compute median \n",
        "np.median(f)"
      ],
      "execution_count": 0,
      "outputs": [
        {
          "output_type": "execute_result",
          "data": {
            "text/plain": [
              "49.5"
            ]
          },
          "metadata": {
            "tags": []
          },
          "execution_count": 11
        }
      ]
    },
    {
      "cell_type": "code",
      "metadata": {
        "id": "bmzXYQydYFCb",
        "colab_type": "code",
        "outputId": "361fc324-8271-4996-bc88-805fc35d9e6a",
        "colab": {
          "base_uri": "https://localhost:8080/",
          "height": 34
        }
      },
      "source": [
        "# Creating Standard Deviation\n",
        "np.std(f)"
      ],
      "execution_count": 0,
      "outputs": [
        {
          "output_type": "execute_result",
          "data": {
            "text/plain": [
              "28.86607004772212"
            ]
          },
          "metadata": {
            "tags": []
          },
          "execution_count": 12
        }
      ]
    },
    {
      "cell_type": "code",
      "metadata": {
        "id": "9DK-IM_ZYITq",
        "colab_type": "code",
        "outputId": "7ccc6e7b-7301-42ce-b60b-93b6d4065808",
        "colab": {
          "base_uri": "https://localhost:8080/",
          "height": 102
        }
      },
      "source": [
        "# Normalize a 5x5 random matrix\n",
        "g = np.arange(4,29)\n",
        "g.reshape(5,5)"
      ],
      "execution_count": 0,
      "outputs": [
        {
          "output_type": "execute_result",
          "data": {
            "text/plain": [
              "array([[ 4,  5,  6,  7,  8],\n",
              "       [ 9, 10, 11, 12, 13],\n",
              "       [14, 15, 16, 17, 18],\n",
              "       [19, 20, 21, 22, 23],\n",
              "       [24, 25, 26, 27, 28]])"
            ]
          },
          "metadata": {
            "tags": []
          },
          "execution_count": 13
        }
      ]
    },
    {
      "cell_type": "code",
      "metadata": {
        "id": "xnLEXlGVYRlT",
        "colab_type": "code",
        "colab": {}
      },
      "source": [
        "gmin= np.min(g)\n",
        "gmax= np.max(g)"
      ],
      "execution_count": 0,
      "outputs": []
    },
    {
      "cell_type": "code",
      "metadata": {
        "id": "qI46_BwzYX3j",
        "colab_type": "code",
        "outputId": "cdaf24bd-8f44-49d3-9a6a-81363c79b717",
        "colab": {
          "base_uri": "https://localhost:8080/",
          "height": 102
        }
      },
      "source": [
        "norm = (g - gmin) / (gmax - gmin)\n",
        "norm"
      ],
      "execution_count": 0,
      "outputs": [
        {
          "output_type": "execute_result",
          "data": {
            "text/plain": [
              "array([0.        , 0.04166667, 0.08333333, 0.125     , 0.16666667,\n",
              "       0.20833333, 0.25      , 0.29166667, 0.33333333, 0.375     ,\n",
              "       0.41666667, 0.45833333, 0.5       , 0.54166667, 0.58333333,\n",
              "       0.625     , 0.66666667, 0.70833333, 0.75      , 0.79166667,\n",
              "       0.83333333, 0.875     , 0.91666667, 0.95833333, 1.        ])"
            ]
          },
          "metadata": {
            "tags": []
          },
          "execution_count": 15
        }
      ]
    },
    {
      "cell_type": "code",
      "metadata": {
        "id": "lbZ_CTP2YaTi",
        "colab_type": "code",
        "outputId": "5285adef-599a-4710-b6e7-118eb662e6da",
        "colab": {
          "base_uri": "https://localhost:8080/",
          "height": 340
        }
      },
      "source": [
        "# Consider an array of dimension (4,4,3), how to mulitply it by an array with dimensions (4,4)?\n",
        "var1 = np.random.randint(0, 10, size=(4,4,3))\n",
        "var1\n"
      ],
      "execution_count": 0,
      "outputs": [
        {
          "output_type": "execute_result",
          "data": {
            "text/plain": [
              "array([[[9, 1, 7],\n",
              "        [4, 1, 3],\n",
              "        [9, 5, 1],\n",
              "        [8, 8, 2]],\n",
              "\n",
              "       [[0, 9, 8],\n",
              "        [9, 2, 4],\n",
              "        [0, 6, 5],\n",
              "        [8, 0, 3]],\n",
              "\n",
              "       [[3, 3, 0],\n",
              "        [1, 3, 2],\n",
              "        [3, 8, 8],\n",
              "        [4, 2, 8]],\n",
              "\n",
              "       [[0, 2, 2],\n",
              "        [6, 2, 5],\n",
              "        [5, 4, 2],\n",
              "        [6, 9, 1]]])"
            ]
          },
          "metadata": {
            "tags": []
          },
          "execution_count": 16
        }
      ]
    },
    {
      "cell_type": "code",
      "metadata": {
        "id": "Q884n7caYibL",
        "colab_type": "code",
        "outputId": "bd2f9a57-4f7d-4248-d0c1-cedefb6e94d1",
        "colab": {
          "base_uri": "https://localhost:8080/",
          "height": 85
        }
      },
      "source": [
        "var2 = np.random.randint(1,5,size=(4,4))\n",
        "var2"
      ],
      "execution_count": 0,
      "outputs": [
        {
          "output_type": "execute_result",
          "data": {
            "text/plain": [
              "array([[2, 1, 2, 4],\n",
              "       [4, 2, 1, 1],\n",
              "       [3, 1, 1, 2],\n",
              "       [3, 1, 3, 2]])"
            ]
          },
          "metadata": {
            "tags": []
          },
          "execution_count": 17
        }
      ]
    },
    {
      "cell_type": "code",
      "metadata": {
        "id": "easKfZo_Yluj",
        "colab_type": "code",
        "outputId": "93021399-1c0a-4557-9c0a-588f92bacf13",
        "colab": {
          "base_uri": "https://localhost:8080/",
          "height": 340
        }
      },
      "source": [
        "var3 = ( var2.transpose() * var1.transpose() ).transpose()\n",
        "var3"
      ],
      "execution_count": 0,
      "outputs": [
        {
          "output_type": "execute_result",
          "data": {
            "text/plain": [
              "array([[[18,  2, 14],\n",
              "        [ 4,  1,  3],\n",
              "        [18, 10,  2],\n",
              "        [32, 32,  8]],\n",
              "\n",
              "       [[ 0, 36, 32],\n",
              "        [18,  4,  8],\n",
              "        [ 0,  6,  5],\n",
              "        [ 8,  0,  3]],\n",
              "\n",
              "       [[ 9,  9,  0],\n",
              "        [ 1,  3,  2],\n",
              "        [ 3,  8,  8],\n",
              "        [ 8,  4, 16]],\n",
              "\n",
              "       [[ 0,  6,  6],\n",
              "        [ 6,  2,  5],\n",
              "        [15, 12,  6],\n",
              "        [12, 18,  2]]])"
            ]
          },
          "metadata": {
            "tags": []
          },
          "execution_count": 18
        }
      ]
    },
    {
      "cell_type": "code",
      "metadata": {
        "id": "BI51oxzRZtcz",
        "colab_type": "code",
        "colab": {}
      },
      "source": [
        ""
      ],
      "execution_count": 0,
      "outputs": []
    }
  ]
}